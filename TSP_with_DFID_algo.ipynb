{
  "nbformat": 4,
  "nbformat_minor": 0,
  "metadata": {
    "colab": {
      "provenance": []
    },
    "kernelspec": {
      "name": "python3",
      "display_name": "Python 3"
    },
    "language_info": {
      "name": "python"
    }
  },
  "cells": [
    {
      "cell_type": "code",
      "source": [
        "import numpy as np\n",
        "import time\n",
        "start_time = time.time()"
      ],
      "metadata": {
        "id": "d_f-_jyCDSJ-"
      },
      "execution_count": null,
      "outputs": []
    },
    {
      "cell_type": "code",
      "source": [
        "def GoalTest(curr_state,goal_state):\n",
        "  if curr_state == goal_state:\n",
        "    return True\n",
        "  else:\n",
        "    return False"
      ],
      "metadata": {
        "id": "0D9rbVonGMJx"
      },
      "execution_count": null,
      "outputs": []
    },
    {
      "cell_type": "code",
      "source": [
        "def MoveGen(node,connections):\n",
        "  neighbours=[]\n",
        "  for i in range(len(connections[0])):\n",
        "    if connections[node][i]!=0:\n",
        "      neighbours.append(i)\n",
        "  return neighbours"
      ],
      "metadata": {
        "id": "e9GiihBFz-7y"
      },
      "execution_count": null,
      "outputs": []
    },
    {
      "cell_type": "code",
      "execution_count": null,
      "metadata": {
        "id": "ln8Rv4iYz23Y"
      },
      "outputs": [],
      "source": [
        "def RemoveSeen(neighbours, open, closed):\n",
        "  for i in neighbours:\n",
        "    if i in map(lambda x: x[0],closed) or i in map(lambda x: x[0],open):\n",
        "      neighbours.remove(i)\n",
        "  return neighbours"
      ]
    },
    {
      "cell_type": "code",
      "source": [
        "neighbours = [2, 3, 4]\n",
        "open = [(1,0,1), (2,0,1)]\n",
        "closed = [(0,-1,0)]\n",
        "RemoveSeen(neighbours, open, closed)"
      ],
      "metadata": {
        "colab": {
          "base_uri": "https://localhost:8080/"
        },
        "id": "X1TWqdACsO2U",
        "outputId": "b82b1cdb-cf0d-4935-f2f7-eaafe8f64185"
      },
      "execution_count": null,
      "outputs": [
        {
          "output_type": "execute_result",
          "data": {
            "text/plain": [
              "[3, 4]"
            ]
          },
          "metadata": {},
          "execution_count": 5
        }
      ]
    },
    {
      "cell_type": "code",
      "source": [
        "def MakePairs(nodeList, parent, depth):\n",
        "  if nodeList == []:\n",
        "    return []\n",
        "  else:\n",
        "    nodePair = (nodeList[0], parent, depth)\n",
        "    return [nodePair]+(MakePairs(nodeList[1:], parent, depth))"
      ],
      "metadata": {
        "id": "4gYhw6q24Hby"
      },
      "execution_count": null,
      "outputs": []
    },
    {
      "cell_type": "code",
      "source": [
        "MakePairs([3,4],0,1)"
      ],
      "metadata": {
        "colab": {
          "base_uri": "https://localhost:8080/"
        },
        "id": "BiLeZfsHu8Kn",
        "outputId": "37555d9b-3c03-4606-d244-5976299892fe"
      },
      "execution_count": null,
      "outputs": [
        {
          "output_type": "execute_result",
          "data": {
            "text/plain": [
              "[(3, 0, 1), (4, 0, 1)]"
            ]
          },
          "metadata": {},
          "execution_count": 7
        }
      ]
    },
    {
      "cell_type": "code",
      "source": [
        "def ReconstructPath(nodePair, close):\n",
        "  def SkipTo(parent, nodePairs, depth):\n",
        "    if parent == nodePairs[0][0] and depth == nodePairs[0][2]:\n",
        "      return nodePairs\n",
        "    else:\n",
        "      return SkipTo(parent, nodePairs[1:], depth)\n",
        "\n",
        "  (node, parent, depth) = nodePair\n",
        "  path = [node]\n",
        "  while parent != -1:\n",
        "    path.append(parent)\n",
        "    close = SkipTo(parent, close, depth-1)\n",
        "    (_, parent, depth) = close[0]\n",
        "  return path"
      ],
      "metadata": {
        "id": "lA27XiHB4KL5"
      },
      "execution_count": null,
      "outputs": []
    },
    {
      "cell_type": "code",
      "source": [
        "ReconstructPath((4,0,1),[(0,-1,0)])"
      ],
      "metadata": {
        "colab": {
          "base_uri": "https://localhost:8080/"
        },
        "id": "cs97XpmlxQV-",
        "outputId": "22175312-7b8e-47b8-e8a1-99ba2f1651b6"
      },
      "execution_count": null,
      "outputs": [
        {
          "output_type": "execute_result",
          "data": {
            "text/plain": [
              "[4, 0]"
            ]
          },
          "metadata": {},
          "execution_count": 9
        }
      ]
    },
    {
      "cell_type": "code",
      "source": [
        "def DBDFS(S, goal_state, connections, depthBound):\n",
        "  count = 0\n",
        "  open = [(S, -1, 0)]\n",
        "  closed = []\n",
        "  while open != []:\n",
        "    nodePair = open[0]\n",
        "    (N, _, depth) = nodePair\n",
        "    if GoalTest(N, goal_state) == True:\n",
        "      return (count, ReconstructPath(nodePair, closed))\n",
        "    else:\n",
        "      closed = [nodePair]+closed\n",
        "      if depth < depthBound:\n",
        "        neighbours = MoveGen(N, connections)\n",
        "        newNodes = RemoveSeen(neighbours, open, closed)\n",
        "        newPairs = MakePairs(newNodes, N, depth+1)\n",
        "        open = newPairs+open[1:]\n",
        "        count += len(newPairs)\n",
        "      else:\n",
        "        open = open[1:]\n",
        "  return (count, [])"
      ],
      "metadata": {
        "id": "VTASMQHd4aDH"
      },
      "execution_count": null,
      "outputs": []
    },
    {
      "cell_type": "code",
      "source": [
        "X=np.array([[0,1,1,0,0],\n",
        "            [1,0,0,1,0],\n",
        "            [1,0,0,0,1],\n",
        "            [0,0,1,1,0]])\n",
        "DBDFS(0,4,X,2)"
      ],
      "metadata": {
        "colab": {
          "base_uri": "https://localhost:8080/"
        },
        "id": "lmPlXTGyzOFM",
        "outputId": "1f5e901e-bc6d-4b93-e990-05699f8e163e"
      },
      "execution_count": null,
      "outputs": [
        {
          "output_type": "execute_result",
          "data": {
            "text/plain": [
              "(4, [4, 2, 0])"
            ]
          },
          "metadata": {},
          "execution_count": 11
        }
      ]
    },
    {
      "cell_type": "code",
      "source": [
        "def DFID(S, connections, goal_state):\n",
        "  count = -1\n",
        "  path = list()\n",
        "  depthBound = 0\n",
        "  while True:\n",
        "    previousCount = count\n",
        "    (count, path) = DBDFS(S, goal_state, connections, depthBound)\n",
        "    depthBound +=1\n",
        "    if path!=[] or previousCount==count:\n",
        "      break\n",
        "  return path"
      ],
      "metadata": {
        "id": "Hgpx0CAR4QBB"
      },
      "execution_count": null,
      "outputs": []
    },
    {
      "cell_type": "code",
      "source": [
        "X=np.array([[0,1,1,0,0],\n",
        "            [1,0,0,1,0],\n",
        "            [1,0,0,0,1],\n",
        "            [0,0,1,1,0]])\n",
        "DFID(0, X, 4)"
      ],
      "metadata": {
        "colab": {
          "base_uri": "https://localhost:8080/"
        },
        "id": "JyuVypnWBuq9",
        "outputId": "fb6ba492-ffeb-43c9-b89a-3830a9484a4b"
      },
      "execution_count": null,
      "outputs": [
        {
          "output_type": "execute_result",
          "data": {
            "text/plain": [
              "[4, 2, 0]"
            ]
          },
          "metadata": {},
          "execution_count": 13
        }
      ]
    },
    {
      "cell_type": "code",
      "source": [
        "print(\"--- %s seconds ---\" % (time.time() - start_time))"
      ],
      "metadata": {
        "colab": {
          "base_uri": "https://localhost:8080/"
        },
        "id": "Rm2tVSSYK8YV",
        "outputId": "3ad45973-de64-4dd8-d5cf-13a38a4a070a"
      },
      "execution_count": null,
      "outputs": [
        {
          "output_type": "stream",
          "name": "stdout",
          "text": [
            "--- 1.0349996089935303 seconds ---\n"
          ]
        }
      ]
    }
  ]
}